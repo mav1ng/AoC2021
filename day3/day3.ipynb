{
 "cells": [
  {
   "cell_type": "code",
   "execution_count": 126,
   "id": "2b7838f8",
   "metadata": {},
   "outputs": [
    {
     "name": "stdout",
     "output_type": "stream",
     "text": [
      "101000000110\n",
      "3923414\n"
     ]
    }
   ],
   "source": [
    "import re\n",
    "import numpy as np\n",
    "\n",
    "numbers = []\n",
    "nb_lines = 0\n",
    "\n",
    "with open('input.txt') as f:\n",
    "    for line in f:\n",
    "        nb_lines += 1\n",
    "        numbers.append(np.array([int(char) for char in re.sub('\\n', '', line)]))\n",
    "        \n",
    "arr = np.array(numbers)\n",
    "\n",
    "\n",
    "#Part One\n",
    "\n",
    "def get_gamma_epsilon(arr):\n",
    "    for i in range(arr.shape[1]):\n",
    "        gamma = (np.sum(arr, axis=0) >= arr.shape[0] / 2).astype(np.int8)\n",
    "        epsilon = -1 *(gamma - 1)\n",
    "        return gamma, epsilon\n",
    "\n",
    "gamma, epsilon = get_gamma_epsilon(arr)\n",
    "\n",
    "gamma_nb = int(''.join(map(str, gamma)), base=2)\n",
    "epsilon_nb = int(''.join(map(str, epsilon)), base=2)\n",
    "\n",
    "print(''.join(map(str, gamma)))\n",
    "print(gamma_nb * epsilon_nb)"
   ]
  },
  {
   "cell_type": "code",
   "execution_count": 127,
   "id": "5e418a12",
   "metadata": {},
   "outputs": [
    {
     "name": "stdout",
     "output_type": "stream",
     "text": [
      "2919 2005\n",
      "5852595\n"
     ]
    }
   ],
   "source": [
    "import copy\n",
    "\n",
    "#Part Two\n",
    "\n",
    "def get_find(arrg, arre):\n",
    "    gamma, _ = get_gamma_epsilon(arrg)\n",
    "    _, epsilon = get_gamma_epsilon(arre)\n",
    "    gamma_find = arrg - gamma\n",
    "    epsilon_find = arre - epsilon\n",
    "    return np.invert(np.abs(gamma_find).astype(bool)), np.invert(np.abs(epsilon_find).astype(bool))\n",
    "\n",
    "indices_gamma = np.arange(0, nb_lines, 1)\n",
    "indices_eps = np.arange(0, nb_lines, 1)\n",
    "arr_gamma = copy.copy(arr)\n",
    "arr_eps = copy.copy(arr)\n",
    "arr_gamma_new = copy.copy(arr)\n",
    "arr_eps_new = copy.copy(arr)\n",
    "\n",
    "j = 0\n",
    "gamma_find, epsilon_find = get_find(arr_gamma, arr_eps)\n",
    "\n",
    "while True:\n",
    "    if j != 0:\n",
    "        if arr_gamma_new.shape[0] > 1:\n",
    "            indices_gamma = copy.copy(indices_gamma_new)\n",
    "            arr_gamma = copy.copy(arr_gamma_new)\n",
    "        if arr_eps_new.shape[0] > 1:\n",
    "            indices_eps = copy.copy(indices_eps_new)\n",
    "            arr_eps = copy.copy(arr_eps_new)\n",
    "            \n",
    "    if arr_gamma_new.shape[0] > 1:\n",
    "        arr_gamma_new = np.empty([np.sum(gamma_find[:, j]), gamma_find.shape[1]])\n",
    "        indices_gamma_new = np.empty([np.sum(gamma_find[:, j])])\n",
    "        indices_gamma_new = indices_gamma[gamma_find[:, j]]\n",
    "        arr_gamma_new = arr_gamma[gamma_find[:, j]]\n",
    "    if arr_eps_new.shape[0] > 1:\n",
    "        arr_eps_new = np.empty([np.sum(epsilon_find[:, j]), epsilon_find.shape[1]])\n",
    "        indices_eps_new = np.empty([np.sum(epsilon_find[:, j])])\n",
    "        indices_eps_new = indices_eps[epsilon_find[:, j]]\n",
    "        arr_eps_new = arr_eps[epsilon_find[:, j]]\n",
    "    \n",
    "    \n",
    "    if arr_gamma_new.shape[0] == 1 and arr_eps_new.shape[0] == 1:\n",
    "        break\n",
    "        \n",
    "    j += 1\n",
    "    gamma_find, epsilon_find = get_find(arr_gamma_new, arr_eps_new)\n",
    "    \n",
    "        \n",
    "oxygen_rating = int(''.join(map(str, arr[indices_gamma_new[0]])), base=2)\n",
    "co2 = int(''.join(map(str, arr[indices_eps_new[0]])), base=2)\n",
    "\n",
    "print(oxygen_rating, co2)\n",
    "print(oxygen_rating * co2)"
   ]
  },
  {
   "cell_type": "code",
   "execution_count": null,
   "id": "77dd3e95",
   "metadata": {},
   "outputs": [],
   "source": []
  }
 ],
 "metadata": {
  "kernelspec": {
   "display_name": "Python 3 (ipykernel)",
   "language": "python",
   "name": "python3"
  },
  "language_info": {
   "codemirror_mode": {
    "name": "ipython",
    "version": 3
   },
   "file_extension": ".py",
   "mimetype": "text/x-python",
   "name": "python",
   "nbconvert_exporter": "python",
   "pygments_lexer": "ipython3",
   "version": "3.8.12"
  }
 },
 "nbformat": 4,
 "nbformat_minor": 5
}
