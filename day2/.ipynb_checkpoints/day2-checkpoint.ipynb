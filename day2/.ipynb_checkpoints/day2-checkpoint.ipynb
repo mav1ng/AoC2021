{
 "cells": [
  {
   "cell_type": "code",
   "execution_count": 10,
   "id": "2b7838f8",
   "metadata": {},
   "outputs": [
    {
     "name": "stdout",
     "output_type": "stream",
     "text": [
      "2215080\n"
     ]
    }
   ],
   "source": [
    "import re\n",
    "import numpy as np\n",
    "\n",
    "direction = []\n",
    "dist = []\n",
    "\n",
    "with open('input.txt') as f:\n",
    "    for line in f:\n",
    "        direction.append(re.split(\" \", line)[0])\n",
    "        dist.append(int(re.split(\" \", line)[1]))\n",
    "\n",
    "horizontal = 0\n",
    "depth = 0\n",
    "        \n",
    "for i, di in enumerate(direction):\n",
    "    if di == 'forward':\n",
    "        horizontal += dist[i]\n",
    "    elif di == 'down':\n",
    "        depth += dist[i]\n",
    "    elif di == 'up':\n",
    "        depth += -dist[i]\n",
    "        \n",
    "print(horizontal * depth)"
   ]
  },
  {
   "cell_type": "code",
   "execution_count": 11,
   "id": "9543d4d6",
   "metadata": {},
   "outputs": [
    {
     "name": "stdout",
     "output_type": "stream",
     "text": [
      "1864715580\n"
     ]
    }
   ],
   "source": [
    "horizontal = 0\n",
    "depth = 0\n",
    "aim = 0\n",
    "\n",
    "for i, di in enumerate(direction):\n",
    "    if di == 'forward':\n",
    "        horizontal += dist[i]\n",
    "        depth += aim * dist[i]\n",
    "    elif di == 'down':\n",
    "        aim += dist[i]\n",
    "    elif di == 'up':\n",
    "        aim += -dist[i]\n",
    "        \n",
    "print(horizontal * depth)"
   ]
  },
  {
   "cell_type": "code",
   "execution_count": null,
   "id": "5e418a12",
   "metadata": {},
   "outputs": [],
   "source": []
  }
 ],
 "metadata": {
  "kernelspec": {
   "display_name": "Python 3 (ipykernel)",
   "language": "python",
   "name": "python3"
  },
  "language_info": {
   "codemirror_mode": {
    "name": "ipython",
    "version": 3
   },
   "file_extension": ".py",
   "mimetype": "text/x-python",
   "name": "python",
   "nbconvert_exporter": "python",
   "pygments_lexer": "ipython3",
   "version": "3.8.12"
  }
 },
 "nbformat": 4,
 "nbformat_minor": 5
}
