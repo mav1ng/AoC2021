{
 "cells": [
  {
   "cell_type": "code",
   "execution_count": 29,
   "id": "5ba047d6",
   "metadata": {},
   "outputs": [
    {
     "name": "stdout",
     "output_type": "stream",
     "text": [
      "1466\n"
     ]
    }
   ],
   "source": [
    "import re\n",
    "import numpy as np\n",
    "\n",
    "input = []\n",
    "with open('input.txt') as f:\n",
    "    for line in f:\n",
    "        input.append(re.sub(\"\\n\", \"\", line))\n",
    "\n",
    "        \n",
    "\n",
    "#convert to int\n",
    "array = np.empty(len(input))\n",
    "\n",
    "for i, string in enumerate(input):\n",
    "    array[i] = int(string)\n",
    " \n",
    "#Part One\n",
    "\n",
    "increment = array[1:] - array[:-1]\n",
    "nb_inc = np.count_nonzero(increment > 0.)\n",
    "\n",
    "print(nb_inc)"
   ]
  },
  {
   "cell_type": "code",
   "execution_count": 30,
   "id": "955cb368",
   "metadata": {},
   "outputs": [
    {
     "name": "stdout",
     "output_type": "stream",
     "text": [
      "1491\n"
     ]
    }
   ],
   "source": [
    "#Part Two\n",
    "\n",
    "sum_array = array[0:-2] + array[1:-1] + array[2:]\n",
    "sum_increment = sum_array[1:] - sum_array[:-1]\n",
    "nb_inc = np.count_nonzero(sum_increment > 0.)\n",
    "print(nb_inc)"
   ]
  },
  {
   "cell_type": "code",
   "execution_count": null,
   "id": "d624a592",
   "metadata": {},
   "outputs": [],
   "source": []
  }
 ],
 "metadata": {
  "kernelspec": {
   "display_name": "Python 3 (ipykernel)",
   "language": "python",
   "name": "python3"
  },
  "language_info": {
   "codemirror_mode": {
    "name": "ipython",
    "version": 3
   },
   "file_extension": ".py",
   "mimetype": "text/x-python",
   "name": "python",
   "nbconvert_exporter": "python",
   "pygments_lexer": "ipython3",
   "version": "3.8.12"
  }
 },
 "nbformat": 4,
 "nbformat_minor": 5
}
